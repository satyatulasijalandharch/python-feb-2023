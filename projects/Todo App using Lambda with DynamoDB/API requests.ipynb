{
 "cells": [
  {
   "cell_type": "code",
   "execution_count": null,
   "metadata": {},
   "outputs": [],
   "source": [
    "# !pip install requests"
   ]
  },
  {
   "cell_type": "code",
   "execution_count": 3,
   "metadata": {},
   "outputs": [],
   "source": [
    "import json\n",
    "import requests\n",
    "from pprint import pprint as pp"
   ]
  },
  {
   "cell_type": "code",
   "execution_count": 4,
   "metadata": {},
   "outputs": [],
   "source": [
    "BASE_URL = \"https://eca2q7ubg7xemxv537cwofud2q0knmcw.lambda-url.us-east-1.on.aws\"\n",
    "\n",
    "HEADERS = {\n",
    "    \"Content-Type\": \"application/json\"\n",
    "}"
   ]
  },
  {
   "attachments": {},
   "cell_type": "markdown",
   "metadata": {},
   "source": [
    "#### get all tasks"
   ]
  },
  {
   "cell_type": "code",
   "execution_count": 7,
   "metadata": {},
   "outputs": [
    {
     "name": "stdout",
     "output_type": "stream",
     "text": [
      "{'count': 0, 'tasks': []}\n"
     ]
    }
   ],
   "source": [
    "url = f\"{BASE_URL}/tasks\"\n",
    "response = requests.get(url)\n",
    "\n",
    "status_code = response.status_code\n",
    "response = response.json()\n",
    "\n",
    "if status_code == 200:\n",
    "    pp(response)\n",
    "else:\n",
    "    print(response)"
   ]
  },
  {
   "attachments": {},
   "cell_type": "markdown",
   "metadata": {},
   "source": [
    "#### create a new task"
   ]
  },
  {
   "cell_type": "code",
   "execution_count": 13,
   "metadata": {},
   "outputs": [
    {
     "name": "stdout",
     "output_type": "stream",
     "text": [
      "{'received_task': 'New task created'}\n"
     ]
    }
   ],
   "source": [
    "url = f\"{BASE_URL}/tasks\"\n",
    "\n",
    "data = {\n",
    "    \"task\": \"New task created\"\n",
    "}\n",
    "\n",
    "payload = json.dumps(data)\n",
    "\n",
    "response = requests.post(\n",
    "    url,\n",
    "    headers=HEADERS,\n",
    "    data=payload\n",
    ")\n",
    "\n",
    "status_code = response.status_code\n",
    "response = response.json()\n",
    "\n",
    "if status_code == 200:\n",
    "    pp(response)\n",
    "else:\n",
    "    print(response)"
   ]
  },
  {
   "cell_type": "code",
   "execution_count": null,
   "metadata": {},
   "outputs": [],
   "source": [
    "task_id = response['task_id']\n",
    "task_id"
   ]
  },
  {
   "attachments": {},
   "cell_type": "markdown",
   "metadata": {},
   "source": [
    "#### get a task"
   ]
  },
  {
   "cell_type": "code",
   "execution_count": null,
   "metadata": {},
   "outputs": [],
   "source": [
    "url = f\"{BASE_URL}/tasks/{task_id}\"\n",
    "response = requests.get(url)\n",
    "\n",
    "status_code = response.status_code\n",
    "response = response.json()\n",
    "\n",
    "if status_code == 200:\n",
    "    pp(response)\n",
    "else:\n",
    "    print(response)"
   ]
  },
  {
   "attachments": {},
   "cell_type": "markdown",
   "metadata": {},
   "source": [
    "#### update a task"
   ]
  },
  {
   "cell_type": "code",
   "execution_count": null,
   "metadata": {},
   "outputs": [],
   "source": [
    "url = f\"{BASE_URL}/tasks/{task_id}\"\n",
    "\n",
    "data = {\n",
    "    \"task\": \"New task updated\"\n",
    "}\n",
    "\n",
    "payload = json.dumps(data)\n",
    "\n",
    "response = requests.patch(\n",
    "    url,\n",
    "    headers=HEADERS,\n",
    "    data=payload\n",
    ")\n",
    "\n",
    "status_code = response.status_code\n",
    "response = response.json()\n",
    "\n",
    "if status_code == 200:\n",
    "    pp(response)\n",
    "else:\n",
    "    print(response)"
   ]
  },
  {
   "cell_type": "code",
   "execution_count": null,
   "metadata": {},
   "outputs": [],
   "source": [
    "url = f\"{BASE_URL}/tasks/{task_id}\"\n",
    "response = requests.get(url)\n",
    "\n",
    "status_code = response.status_code\n",
    "response = response.json()\n",
    "\n",
    "if status_code == 200:\n",
    "    pp(response)\n",
    "else:\n",
    "    print(response)"
   ]
  },
  {
   "attachments": {},
   "cell_type": "markdown",
   "metadata": {},
   "source": [
    "#### complete a task"
   ]
  },
  {
   "cell_type": "code",
   "execution_count": null,
   "metadata": {},
   "outputs": [],
   "source": [
    "url = f\"{BASE_URL}/tasks/{task_id}/complete\"\n",
    "payload = json.dumps({})\n",
    "\n",
    "response = requests.post(\n",
    "    url,\n",
    "    headers=HEADERS,\n",
    "    data=payload\n",
    ")\n",
    "\n",
    "status_code = response.status_code\n",
    "response = response.json()\n",
    "\n",
    "if status_code == 200:\n",
    "    pp(response)\n",
    "else:\n",
    "    print(response)"
   ]
  },
  {
   "cell_type": "code",
   "execution_count": null,
   "metadata": {},
   "outputs": [],
   "source": [
    "url = f\"{BASE_URL}/tasks/{task_id}\"\n",
    "response = requests.get(url)\n",
    "\n",
    "status_code = response.status_code\n",
    "response = response.json()\n",
    "\n",
    "if status_code == 200:\n",
    "    pp(response)\n",
    "else:\n",
    "    print(response)"
   ]
  },
  {
   "cell_type": "code",
   "execution_count": null,
   "metadata": {},
   "outputs": [],
   "source": [
    "url = f\"{BASE_URL}/tasks/{task_id}\"\n",
    "\n",
    "data = {\n",
    "    \"task\": \"New task updated v2\"\n",
    "}\n",
    "\n",
    "payload = json.dumps(data)\n",
    "\n",
    "response = requests.patch(\n",
    "    url,\n",
    "    headers=HEADERS,\n",
    "    data=payload\n",
    ")\n",
    "\n",
    "status_code = response.status_code\n",
    "response = response.json()\n",
    "\n",
    "if status_code == 200:\n",
    "    pp(response)\n",
    "else:\n",
    "    print(response)"
   ]
  },
  {
   "attachments": {},
   "cell_type": "markdown",
   "metadata": {},
   "source": [
    "#### delete a task"
   ]
  },
  {
   "cell_type": "code",
   "execution_count": null,
   "metadata": {},
   "outputs": [],
   "source": [
    "url = f\"{BASE_URL}/tasks/{task_id}\"\n",
    "response = requests.get(url)\n",
    "\n",
    "status_code = response.status_code\n",
    "response = response.json()\n",
    "\n",
    "if status_code == 200:\n",
    "    pp(response)\n",
    "else:\n",
    "    print(response)"
   ]
  },
  {
   "cell_type": "code",
   "execution_count": null,
   "metadata": {},
   "outputs": [],
   "source": [
    "url = f\"{BASE_URL}/tasks/{task_id}\"\n",
    "response = requests.delete(url)\n",
    "\n",
    "status_code = response.status_code\n",
    "response = response.json()\n",
    "\n",
    "if status_code == 200:\n",
    "    pp(response)\n",
    "else:\n",
    "    print(response)"
   ]
  },
  {
   "cell_type": "code",
   "execution_count": null,
   "metadata": {},
   "outputs": [],
   "source": [
    "url = f\"{BASE_URL}/tasks/{task_id}\"\n",
    "response = requests.get(url)\n",
    "\n",
    "status_code = response.status_code\n",
    "response = response.json()\n",
    "\n",
    "if status_code == 200:\n",
    "    pp(response)\n",
    "else:\n",
    "    print(response)"
   ]
  },
  {
   "attachments": {},
   "cell_type": "markdown",
   "metadata": {},
   "source": [
    "#### delete all/multi tasks"
   ]
  },
  {
   "cell_type": "code",
   "execution_count": null,
   "metadata": {},
   "outputs": [],
   "source": [
    "url = f\"{BASE_URL}/tasks\"\n",
    "response = requests.get(url)\n",
    "\n",
    "status_code = response.status_code\n",
    "response = response.json()\n",
    "\n",
    "if status_code == 200:\n",
    "    pp(response)\n",
    "else:\n",
    "    print(response)"
   ]
  },
  {
   "cell_type": "code",
   "execution_count": null,
   "metadata": {},
   "outputs": [],
   "source": [
    "for task in response['tasks'][:2]:\n",
    "    task_id = task['task_id']\n",
    "\n",
    "    url = f\"{BASE_URL}/tasks/{task_id}\"\n",
    "    response = requests.delete(url)"
   ]
  },
  {
   "cell_type": "code",
   "execution_count": null,
   "metadata": {},
   "outputs": [],
   "source": [
    "url = f\"{BASE_URL}/tasks\"\n",
    "response = requests.get(url)\n",
    "\n",
    "status_code = response.status_code\n",
    "response = response.json()\n",
    "\n",
    "if status_code == 200:\n",
    "    pp(response)\n",
    "else:\n",
    "    print(response)"
   ]
  },
  {
   "cell_type": "code",
   "execution_count": null,
   "metadata": {},
   "outputs": [],
   "source": []
  }
 ],
 "metadata": {
  "kernelspec": {
   "display_name": "Python 3",
   "language": "python",
   "name": "python3"
  },
  "language_info": {
   "codemirror_mode": {
    "name": "ipython",
    "version": 3
   },
   "file_extension": ".py",
   "mimetype": "text/x-python",
   "name": "python",
   "nbconvert_exporter": "python",
   "pygments_lexer": "ipython3",
   "version": "3.9.16"
  },
  "orig_nbformat": 4
 },
 "nbformat": 4,
 "nbformat_minor": 2
}
